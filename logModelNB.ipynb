{
 "cells": [
  {
   "cell_type": "code",
   "execution_count": 16,
   "metadata": {},
   "outputs": [],
   "source": [
    "from sklearn import datasets\n",
    "import pandas as pd\n",
    "import numpy as np"
   ]
  },
  {
   "cell_type": "code",
   "execution_count": 2,
   "metadata": {},
   "outputs": [],
   "source": [
    "# import data\n",
    "iris = datasets.load_iris()\n",
    "df = pd.DataFrame(iris.data, columns = iris.feature_names)\n",
    "df['target'] = iris.target\n"
   ]
  },
  {
   "cell_type": "code",
   "execution_count": 12,
   "metadata": {},
   "outputs": [],
   "source": [
    "from sklearn.model_selection import train_test_split\n",
    "\n",
    "X = df.iloc[:, [0,1,2, 3]].values\n",
    "y = df.iloc[:, 4].values\n",
    "\n",
    "X_train, X_test, y_train, y_test = train_test_split(X, y, test_size = 0.25, random_state = 0)"
   ]
  },
  {
   "cell_type": "code",
   "execution_count": 13,
   "metadata": {},
   "outputs": [],
   "source": [
    "from sklearn.preprocessing import StandardScaler\n",
    "sc = StandardScaler()\n",
    "X_train = sc.fit_transform(X_train)\n",
    "X_test = sc.transform(X_test)"
   ]
  },
  {
   "cell_type": "code",
   "execution_count": 14,
   "metadata": {},
   "outputs": [
    {
     "data": {
      "text/plain": [
       "LogisticRegression(random_state=0)"
      ]
     },
     "execution_count": 14,
     "metadata": {},
     "output_type": "execute_result"
    }
   ],
   "source": [
    "# Fitting Logistic Regression to the Training set\n",
    "from sklearn.linear_model import LogisticRegression\n",
    "\n",
    "classifier = LogisticRegression(random_state = 0, solver='lbfgs', multi_class='auto')\n",
    "classifier.fit(X_train, y_train)"
   ]
  },
  {
   "cell_type": "code",
   "execution_count": 15,
   "metadata": {},
   "outputs": [],
   "source": [
    "# Predicting the Test set results\n",
    "y_pred = classifier.predict(X_test)\n",
    "\n",
    "# Predict probabilities\n",
    "probs_y=classifier.predict_proba(X_test)"
   ]
  },
  {
   "cell_type": "code",
   "execution_count": 17,
   "metadata": {},
   "outputs": [
    {
     "name": "stdout",
     "output_type": "stream",
     "text": [
      "y_test     | y_pred     | Setosa(%)  | versicolor(%) | virginica(%)\n",
      "-----------------------------------------------------------------\n",
      "2          | 2          | 0.0        | 0.03          | 0.97      \n",
      "1          | 1          | 0.01       | 0.95          | 0.04      \n",
      "0          | 0          | 1.0        | 0.0           | 0.0       \n",
      "2          | 2          | 0.0        | 0.08          | 0.92      \n",
      "0          | 0          | 0.98       | 0.02          | 0.0       \n",
      "2          | 2          | 0.0        | 0.01          | 0.99      \n",
      "0          | 0          | 0.98       | 0.02          | 0.0       \n",
      "1          | 1          | 0.01       | 0.71          | 0.28      \n",
      "1          | 1          | 0.0        | 0.73          | 0.27      \n",
      "1          | 1          | 0.02       | 0.89          | 0.08      \n",
      "2          | 2          | 0.0        | 0.44          | 0.56      \n",
      "1          | 1          | 0.02       | 0.76          | 0.22      \n",
      "1          | 1          | 0.01       | 0.85          | 0.13      \n",
      "1          | 1          | 0.0        | 0.69          | 0.3       \n",
      "1          | 1          | 0.01       | 0.75          | 0.24      \n",
      "0          | 0          | 0.99       | 0.01          | 0.0       \n",
      "1          | 1          | 0.02       | 0.72          | 0.26      \n",
      "1          | 1          | 0.03       | 0.86          | 0.11      \n",
      "0          | 0          | 0.94       | 0.06          | 0.0       \n",
      "0          | 0          | 0.99       | 0.01          | 0.0       \n",
      "2          | 2          | 0.0        | 0.17          | 0.83      \n",
      "1          | 1          | 0.04       | 0.71          | 0.25      \n",
      "0          | 0          | 0.98       | 0.02          | 0.0       \n",
      "0          | 0          | 0.96       | 0.04          | 0.0       \n",
      "2          | 2          | 0.0        | 0.35          | 0.65      \n",
      "0          | 0          | 1.0        | 0.0           | 0.0       \n",
      "0          | 0          | 0.99       | 0.01          | 0.0       \n",
      "1          | 1          | 0.02       | 0.87          | 0.11      \n",
      "1          | 1          | 0.09       | 0.9           | 0.02      \n",
      "0          | 0          | 0.97       | 0.03          | 0.0       \n",
      "2          | 2          | 0.0        | 0.21          | 0.79      \n",
      "1          | 1          | 0.06       | 0.69          | 0.25      \n",
      "0          | 0          | 0.98       | 0.02          | 0.0       \n",
      "2          | 2          | 0.0        | 0.35          | 0.65      \n",
      "2          | 2          | 0.0        | 0.04          | 0.96      \n",
      "1          | 1          | 0.07       | 0.81          | 0.11      \n",
      "0          | 0          | 0.97       | 0.03          | 0.0       \n",
      "1          | 2          | 0.0        | 0.42          | 0.58      \n",
      "-----------------------------------------------------------------\n",
      "\n"
     ]
    }
   ],
   "source": [
    "### Print results \n",
    "probs_y = np.round(probs_y, 2)\n",
    "res = \"{:<10} | {:<10} | {:<10} | {:<13} | {:<5}\".format(\"y_test\", \"y_pred\", \"Setosa(%)\", \"versicolor(%)\", \"virginica(%)\\n\")\n",
    "res += \"-\"*65+\"\\n\"\n",
    "res += \"\\n\".join(\"{:<10} | {:<10} | {:<10} | {:<13} | {:<10}\".format(x, y, a, b, c) for x, y, a, b, c in zip(y_test, y_pred, probs_y[:,0], probs_y[:,1], probs_y[:,2]))\n",
    "res += \"\\n\"+\"-\"*65+\"\\n\"\n",
    "print(res)\n"
   ]
  }
 ],
 "metadata": {
  "interpreter": {
   "hash": "767d51c1340bd893661ea55ea3124f6de3c7a262a8b4abca0554b478b1e2ff90"
  },
  "kernelspec": {
   "display_name": "Python 2.7.16 64-bit",
   "language": "python",
   "name": "python3"
  },
  "language_info": {
   "codemirror_mode": {
    "name": "ipython",
    "version": 3
   },
   "file_extension": ".py",
   "mimetype": "text/x-python",
   "name": "python",
   "nbconvert_exporter": "python",
   "pygments_lexer": "ipython3",
   "version": "3.9.7"
  },
  "orig_nbformat": 4
 },
 "nbformat": 4,
 "nbformat_minor": 2
}
