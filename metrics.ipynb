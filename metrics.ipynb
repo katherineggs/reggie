{
 "cells": [
  {
   "cell_type": "code",
   "execution_count": 13,
   "metadata": {},
   "outputs": [],
   "source": [
    "import numpy as np \n",
    "from sklearn.metrics import confusion_matrix"
   ]
  },
  {
   "cell_type": "code",
   "execution_count": null,
   "metadata": {},
   "outputs": [],
   "source": [
    "def metrics(yTest, yPred):\n",
    "    cnfMatrix = confusion_matrix(yTest, yPred)\n",
    "\n",
    "    FP = (cnfMatrix.sum(axis=0) - np.diag(cnfMatrix)).astype(float) \n",
    "    FN = (cnfMatrix.sum(axis=1) - np.diag(cnfMatrix)).astype(float)\n",
    "    TP = (np.diag(cnfMatrix)).astype(float)\n",
    "    TN = (cnfMatrix.sum() - (FP + FN + TP)).astype(float)\n",
    "\n",
    "    #accuracy\n",
    "    accuracy = (TP + TN)/(FP + FN + TP + TN)\n",
    "    precision = TP / (TP + FP)\n",
    "    recall = TP / (TP + FN)\n",
    "    f1score = (2 * precision * recall) / (precision + recall)\n",
    "\n",
    "    return (print(\"Accuracy\", accuracy, \"\\n\\nPrecision\", precision, \"\\n\\nRecall\", recall, \"\\n\\nF1 score\", f1score))"
   ]
  }
 ],
 "metadata": {
  "interpreter": {
   "hash": "81f78be8e84c422d020e02bed99d970b4c01c3a614224aa9b2e56590be3a6b2a"
  },
  "kernelspec": {
   "display_name": "Python 3.9.7 ('ml')",
   "language": "python",
   "name": "python3"
  },
  "language_info": {
   "codemirror_mode": {
    "name": "ipython",
    "version": 3
   },
   "file_extension": ".py",
   "mimetype": "text/x-python",
   "name": "python",
   "nbconvert_exporter": "python",
   "pygments_lexer": "ipython3",
   "version": "3.9.7"
  },
  "orig_nbformat": 4
 },
 "nbformat": 4,
 "nbformat_minor": 2
}
