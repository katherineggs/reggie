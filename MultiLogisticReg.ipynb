{
 "cells": [
  {
   "cell_type": "code",
   "execution_count": null,
   "metadata": {},
   "outputs": [],
   "source": [
    "import pandas as pd\n",
    "import numpy as np"
   ]
  },
  {
   "cell_type": "code",
   "execution_count": null,
   "metadata": {},
   "outputs": [],
   "source": [
    "class MultiLogisticReg():\n",
    "    def __init__():\n",
    "        pass\n",
    "\n",
    "    def fit(X,y):\n",
    "        pass\n",
    "\n",
    "    def predict(X):\n",
    "        pass\n",
    "\n",
    "    def predictProba(X):\n",
    "        pass\n",
    "\n",
    "    def lossFunction(probs, target):\n",
    "        \"\"\"\n",
    "        Calculates cross entropy loss for a set of predictions and actual targets.\n",
    "        Cross-entropy is a measure of the difference between two probability distributions for a given random variable\n",
    "\n",
    "        Parameters:\n",
    "        probs: Probability predictions in MultiLogisticReg\n",
    "        target: Actual target values\n",
    "\n",
    "        Returns:\n",
    "        loss: Average cross entropy loss\n",
    "        \"\"\"\n",
    "\n",
    "        rows = probs.shape[0]\n",
    "        loss = 0\n",
    "\n",
    "        for row, i in zip(probs, target):\n",
    "            loss += -np.log(row[i])\n",
    "        loss /= rows\n",
    "        return loss\n",
    "\n",
    "    def gradientDescent():\n",
    "        pass\n",
    "\n"
   ]
  }
 ],
 "metadata": {
  "interpreter": {
   "hash": "34f0680f93e83a4a101ea3928db54ef43df704f0ed6210e5ae2b09f0ef086431"
  },
  "kernelspec": {
   "display_name": "Python 3.9.7 ('ml')",
   "language": "python",
   "name": "python3"
  },
  "language_info": {
   "name": "python",
   "version": "3.9.7"
  },
  "orig_nbformat": 4
 },
 "nbformat": 4,
 "nbformat_minor": 2
}
